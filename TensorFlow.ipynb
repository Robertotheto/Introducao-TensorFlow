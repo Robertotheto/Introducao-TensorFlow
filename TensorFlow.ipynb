{
  "nbformat": 4,
  "nbformat_minor": 0,
  "metadata": {
    "colab": {
      "provenance": [],
      "authorship_tag": "ABX9TyOZLobIek33TsIOWYp/H6Up",
      "include_colab_link": true
    },
    "kernelspec": {
      "name": "python3",
      "display_name": "Python 3"
    },
    "language_info": {
      "name": "python"
    }
  },
  "cells": [
    {
      "cell_type": "markdown",
      "metadata": {
        "id": "view-in-github",
        "colab_type": "text"
      },
      "source": [
        "<a href=\"https://colab.research.google.com/github/Robertotheto/Introducao-TensorFlow/blob/master/TensorFlow.ipynb\" target=\"_parent\"><img src=\"https://colab.research.google.com/assets/colab-badge.svg\" alt=\"Open In Colab\"/></a>"
      ]
    },
    {
      "cell_type": "markdown",
      "source": [
        "# Introdução ao TensorFlow"
      ],
      "metadata": {
        "id": "uAH8nAzLgASH"
      }
    },
    {
      "cell_type": "code",
      "execution_count": null,
      "metadata": {
        "id": "cBVYD9Fc9Twm"
      },
      "outputs": [],
      "source": [
        "import tensorflow as tf\n",
        "import tensorflow_probability as tfp"
      ]
    },
    {
      "cell_type": "markdown",
      "source": [
        "Criando um tensor de 0 dimensões"
      ],
      "metadata": {
        "id": "VeHMnzKagbKh"
      }
    },
    {
      "cell_type": "code",
      "source": [
        "tensor_zero_d = tf.constant(8)\n",
        "print(tensor_zero_d)"
      ],
      "metadata": {
        "colab": {
          "base_uri": "https://localhost:8080/"
        },
        "id": "r9xauiVc9uks",
        "outputId": "36d721ce-6a5b-45ea-8ca0-effd04cad102"
      },
      "execution_count": null,
      "outputs": [
        {
          "output_type": "stream",
          "name": "stdout",
          "text": [
            "tf.Tensor(8, shape=(), dtype=int32)\n"
          ]
        }
      ]
    },
    {
      "cell_type": "markdown",
      "source": [
        "Criando um tensor de 1 dimensões"
      ],
      "metadata": {
        "id": "-pMFkZf6gmJg"
      }
    },
    {
      "cell_type": "code",
      "source": [
        "tensor_one_d = tf.constant([2,0,-3])\n",
        "print(tensor_one_d)"
      ],
      "metadata": {
        "colab": {
          "base_uri": "https://localhost:8080/"
        },
        "id": "W-f_11dd-Bbk",
        "outputId": "99e6fa14-cf0b-4ccf-a3f1-9dfebd4bd659"
      },
      "execution_count": null,
      "outputs": [
        {
          "output_type": "stream",
          "name": "stdout",
          "text": [
            "tf.Tensor([ 2  0 -3], shape=(3,), dtype=int32)\n"
          ]
        }
      ]
    },
    {
      "cell_type": "markdown",
      "source": [
        "Criando um tensor de 2 dimensões"
      ],
      "metadata": {
        "id": "ocR4w0HCgvSU"
      }
    },
    {
      "cell_type": "code",
      "source": [
        "tensor_two_d = tf.constant([\n",
        "    [1,2,0],\n",
        "    [3,5,-1],\n",
        "    [1,5,6],\n",
        "    [2,3,8]\n",
        "])\n",
        "print(tensor_two_d)"
      ],
      "metadata": {
        "colab": {
          "base_uri": "https://localhost:8080/"
        },
        "id": "fdS4Byble1Wm",
        "outputId": "000f536d-11d7-4d5b-d71c-143f0aff8c5a"
      },
      "execution_count": null,
      "outputs": [
        {
          "output_type": "stream",
          "name": "stdout",
          "text": [
            "tf.Tensor(\n",
            "[[ 1  2  0]\n",
            " [ 3  5 -1]\n",
            " [ 1  5  6]\n",
            " [ 2  3  8]], shape=(4, 3), dtype=int32)\n"
          ]
        }
      ]
    },
    {
      "cell_type": "markdown",
      "source": [
        "Criando um tensor de 3 dimensões"
      ],
      "metadata": {
        "id": "qTyGef50dGXB"
      }
    },
    {
      "cell_type": "code",
      "source": [
        "tensor_tree_d = tf.constant([\n",
        "    [[1,2,0],\n",
        "    [3,5,-1]],\n",
        "    [[1,5,6],\n",
        "    [2,3,8]],\n",
        "    [[10,2,0],\n",
        "    [1,0,2]]\n",
        "])\n",
        "print(tensor_tree_d)"
      ],
      "metadata": {
        "colab": {
          "base_uri": "https://localhost:8080/"
        },
        "id": "x3zDNj4CcNQn",
        "outputId": "1d4e9fe8-edc7-4dba-959c-9fddcea93a6a"
      },
      "execution_count": null,
      "outputs": [
        {
          "output_type": "stream",
          "name": "stdout",
          "text": [
            "tf.Tensor(\n",
            "[[[ 1  2  0]\n",
            "  [ 3  5 -1]]\n",
            "\n",
            " [[ 1  5  6]\n",
            "  [ 2  3  8]]\n",
            "\n",
            " [[10  2  0]\n",
            "  [ 1  0  2]]], shape=(3, 2, 3), dtype=int32)\n"
          ]
        }
      ]
    },
    {
      "cell_type": "code",
      "source": [
        "print(tensor_tree_d.ndim)"
      ],
      "metadata": {
        "colab": {
          "base_uri": "https://localhost:8080/"
        },
        "id": "SExyRxtld7HN",
        "outputId": "66131662-c95a-4349-ecb7-ab4ceeae7548"
      },
      "execution_count": null,
      "outputs": [
        {
          "output_type": "stream",
          "name": "stdout",
          "text": [
            "3\n"
          ]
        }
      ]
    },
    {
      "cell_type": "markdown",
      "source": [
        "Casting"
      ],
      "metadata": {
        "id": "yEZeqmYWiVK2"
      }
    },
    {
      "cell_type": "code",
      "source": [
        "tensor_one_d = tf.constant([2,0,-3], dtype=tf.float32)\n",
        "cast_tensor_one_d = tf.cast(tensor_one_d, dtype=tf.int16)\n",
        "print(tensor_one_d)\n",
        "print(cast_tensor_one_d)"
      ],
      "metadata": {
        "colab": {
          "base_uri": "https://localhost:8080/"
        },
        "id": "NWE0ZRWMgnBP",
        "outputId": "1b30848b-7697-4502-8970-78137faef05c"
      },
      "execution_count": null,
      "outputs": [
        {
          "output_type": "stream",
          "name": "stdout",
          "text": [
            "tf.Tensor([ 2.  0. -3.], shape=(3,), dtype=float32)\n",
            "tf.Tensor([ 2  0 -3], shape=(3,), dtype=int16)\n"
          ]
        }
      ]
    },
    {
      "cell_type": "markdown",
      "source": [
        "Converter um array para um tensor"
      ],
      "metadata": {
        "id": "yY80fZZCiaKz"
      }
    },
    {
      "cell_type": "code",
      "source": [
        "import numpy as np"
      ],
      "metadata": {
        "id": "hysO8YsRij0k"
      },
      "execution_count": null,
      "outputs": []
    },
    {
      "cell_type": "code",
      "source": [
        "np_array = np.array([1,2,4])\n",
        "print(np_array)\n",
        "\n",
        "convert_tensor = tf.convert_to_tensor(np_array)\n",
        "print(convert_tensor)"
      ],
      "metadata": {
        "colab": {
          "base_uri": "https://localhost:8080/"
        },
        "id": "pB4j2jTpiqn3",
        "outputId": "cda29125-0e84-4c91-df10-59eb3b997f77"
      },
      "execution_count": null,
      "outputs": [
        {
          "output_type": "stream",
          "name": "stdout",
          "text": [
            "[1 2 4]\n",
            "tf.Tensor([1 2 4], shape=(3,), dtype=int64)\n"
          ]
        }
      ]
    },
    {
      "cell_type": "code",
      "source": [
        "eye_tensor = tf.eye(\n",
        "    num_rows=3,\n",
        "    num_columns=None,\n",
        "    batch_shape=None,\n",
        "    dtype=tf.dtypes.float32,\n",
        "    name=None\n",
        ")\n",
        "print(eye_tensor)"
      ],
      "metadata": {
        "colab": {
          "base_uri": "https://localhost:8080/"
        },
        "id": "LXx4lwLrjm9F",
        "outputId": "307eeb16-0a6c-4fe7-f72e-f63ed61fd6a9"
      },
      "execution_count": null,
      "outputs": [
        {
          "output_type": "stream",
          "name": "stdout",
          "text": [
            "tf.Tensor(\n",
            "[[1. 0. 0.]\n",
            " [0. 1. 0.]\n",
            " [0. 0. 1.]], shape=(3, 3), dtype=float32)\n"
          ]
        }
      ]
    },
    {
      "cell_type": "markdown",
      "source": [
        "Index com tensor"
      ],
      "metadata": {
        "id": "cB6MabidWq4N"
      }
    },
    {
      "cell_type": "code",
      "source": [
        "tensor_index = tf.constant([3,6,2,4,6,66,7])\n",
        "print(tensor_index)\n",
        "print(tensor_index[0:4])\n",
        "print(tensor_index[1:6:2])"
      ],
      "metadata": {
        "colab": {
          "base_uri": "https://localhost:8080/"
        },
        "id": "7FQphhotWvyv",
        "outputId": "0f38e213-1d97-4a93-feab-948d093033d6"
      },
      "execution_count": null,
      "outputs": [
        {
          "output_type": "stream",
          "name": "stdout",
          "text": [
            "tf.Tensor([ 3  6  2  4  6 66  7], shape=(7,), dtype=int32)\n",
            "tf.Tensor([3 6 2 4], shape=(4,), dtype=int32)\n",
            "tf.Tensor([ 6  4 66], shape=(3,), dtype=int32)\n"
          ]
        }
      ]
    },
    {
      "cell_type": "markdown",
      "source": [
        "Math Operation"
      ],
      "metadata": {
        "id": "AYMVOrvDbkI7"
      }
    },
    {
      "cell_type": "code",
      "source": [
        "x_abs = tf.constant([-2.25,65.45])\n",
        "tf.abs(x_abs)"
      ],
      "metadata": {
        "colab": {
          "base_uri": "https://localhost:8080/"
        },
        "id": "-8xevdmWbuTB",
        "outputId": "5b34c904-9e7f-4ab6-cef2-4347932bb67a"
      },
      "execution_count": null,
      "outputs": [
        {
          "output_type": "execute_result",
          "data": {
            "text/plain": [
              "<tf.Tensor: shape=(2,), dtype=float32, numpy=array([ 2.25, 65.45], dtype=float32)>"
            ]
          },
          "metadata": {},
          "execution_count": 12
        }
      ]
    },
    {
      "cell_type": "code",
      "source": [
        "tf.sqrt((-2.25)**2 + (-65.45)**2)"
      ],
      "metadata": {
        "colab": {
          "base_uri": "https://localhost:8080/"
        },
        "id": "fegDndSmcSjA",
        "outputId": "a077a7a3-be41-4430-b7ec-6fcf07831c9e"
      },
      "execution_count": null,
      "outputs": [
        {
          "output_type": "execute_result",
          "data": {
            "text/plain": [
              "<tf.Tensor: shape=(), dtype=float32, numpy=65.48866>"
            ]
          },
          "metadata": {},
          "execution_count": 13
        }
      ]
    },
    {
      "cell_type": "code",
      "source": [
        "x_argmax = tf.constant([200,150,45,60])\n",
        "print(tf.argmax(x_argmax))"
      ],
      "metadata": {
        "colab": {
          "base_uri": "https://localhost:8080/"
        },
        "id": "t-vHyZG_fHrl",
        "outputId": "519e99fc-8f5e-44cb-d22e-122195d78e3a"
      },
      "execution_count": null,
      "outputs": [
        {
          "output_type": "stream",
          "name": "stdout",
          "text": [
            "tf.Tensor(0, shape=(), dtype=int64)\n"
          ]
        }
      ]
    },
    {
      "cell_type": "code",
      "source": [
        "x_argmin = tf.constant([200,150,450,60])\n",
        "print(tf.argmin(x_argmin))"
      ],
      "metadata": {
        "colab": {
          "base_uri": "https://localhost:8080/"
        },
        "id": "sowm5QlafbDZ",
        "outputId": "2f0b3234-d353-4d50-835f-d4e0b0a900f2"
      },
      "execution_count": null,
      "outputs": [
        {
          "output_type": "stream",
          "name": "stdout",
          "text": [
            "tf.Tensor(3, shape=(), dtype=int64)\n"
          ]
        }
      ]
    },
    {
      "cell_type": "code",
      "source": [
        "tensor_two_d = tf.constant([\n",
        "    [1,2,0],\n",
        "    [3,5,-1],\n",
        "    [1,5,6],\n",
        "    [2,3,8]\n",
        "])\n",
        "print(tf.math.reduce_sum(tensor_two_d, axis=None, keepdims=False,name=None))"
      ],
      "metadata": {
        "colab": {
          "base_uri": "https://localhost:8080/"
        },
        "id": "MmjGOT6yib_7",
        "outputId": "3f73e0c6-e632-47ba-e421-df1ece446faf"
      },
      "execution_count": null,
      "outputs": [
        {
          "output_type": "stream",
          "name": "stdout",
          "text": [
            "tf.Tensor(35, shape=(), dtype=int32)\n"
          ]
        }
      ]
    },
    {
      "cell_type": "code",
      "source": [
        "tensor_two_d = tf.constant([\n",
        "    [1,2,0],\n",
        "    [3,5,-1],\n",
        "    [1,5,6],\n",
        "    [2,3,8]\n",
        "])\n",
        "print(tf.math.reduce_max(tensor_two_d, axis=None, keepdims=False,name=None))"
      ],
      "metadata": {
        "colab": {
          "base_uri": "https://localhost:8080/"
        },
        "id": "-c7l92qfjQ5R",
        "outputId": "6b92e418-4cd9-4b45-b5f2-ef5c622e0659"
      },
      "execution_count": null,
      "outputs": [
        {
          "output_type": "stream",
          "name": "stdout",
          "text": [
            "tf.Tensor(8, shape=(), dtype=int32)\n"
          ]
        }
      ]
    },
    {
      "cell_type": "code",
      "source": [
        "tensor_two_d = tf.constant([\n",
        "    [1,2,0],\n",
        "    [3,5,-1],\n",
        "    [1,5,6],\n",
        "    [2,3,8]\n",
        "])\n",
        "print(tf.math.reduce_max(tensor_two_d, axis=0, keepdims=False,name=None))"
      ],
      "metadata": {
        "colab": {
          "base_uri": "https://localhost:8080/"
        },
        "id": "5y36_8najcpH",
        "outputId": "7f510bae-918c-45c6-806f-021ac055938b"
      },
      "execution_count": null,
      "outputs": [
        {
          "output_type": "stream",
          "name": "stdout",
          "text": [
            "tf.Tensor([3 5 8], shape=(3,), dtype=int32)\n"
          ]
        }
      ]
    },
    {
      "cell_type": "code",
      "source": [
        "tensor_two_d = tf.constant([\n",
        "    [1,2,0],\n",
        "    [3,5,-1],\n",
        "    [1,5,6],\n",
        "    [2,3,8]\n",
        "])\n",
        "print(tf.math.reduce_min(tensor_two_d, axis=1, keepdims=False,name=None))"
      ],
      "metadata": {
        "colab": {
          "base_uri": "https://localhost:8080/"
        },
        "id": "JZ19f3jljmJQ",
        "outputId": "90560247-03a8-4754-a719-3f55c559ada5"
      },
      "execution_count": null,
      "outputs": [
        {
          "output_type": "stream",
          "name": "stdout",
          "text": [
            "tf.Tensor([ 0 -1  1  2], shape=(4,), dtype=int32)\n"
          ]
        }
      ]
    },
    {
      "cell_type": "code",
      "source": [
        "tensor_two_d = tf.constant([\n",
        "    [1,2,0],\n",
        "    [3,5,-1],\n",
        "    [1,5,6],\n",
        "    [2,3,8]\n",
        "], dtype=tf.float16)\n",
        "print(tf.math.reduce_mean(tensor_two_d, axis=0, keepdims=False,name=None))"
      ],
      "metadata": {
        "colab": {
          "base_uri": "https://localhost:8080/"
        },
        "id": "mnOj8otukQA9",
        "outputId": "5d669ff4-6260-4b11-8dd7-98efc58cec79"
      },
      "execution_count": null,
      "outputs": [
        {
          "output_type": "stream",
          "name": "stdout",
          "text": [
            "tf.Tensor([1.75 3.75 3.25], shape=(3,), dtype=float16)\n"
          ]
        }
      ]
    },
    {
      "cell_type": "code",
      "source": [
        "tensor_two_d = tf.constant([\n",
        "    [1,2,0],\n",
        "    [3,5,-1],\n",
        "    [1,5,6],\n",
        "    [2,3,8]\n",
        "], dtype=tf.float16)\n",
        "print(tf.math.reduce_std(tensor_two_d, axis=1, keepdims=False,name=None))"
      ],
      "metadata": {
        "colab": {
          "base_uri": "https://localhost:8080/"
        },
        "id": "oX6Dzzbbk3ek",
        "outputId": "c2e0e2ac-ba47-4806-b892-7bfbef533f79"
      },
      "execution_count": null,
      "outputs": [
        {
          "output_type": "stream",
          "name": "stdout",
          "text": [
            "tf.Tensor([0.8164 2.494  2.16   2.625 ], shape=(4,), dtype=float16)\n"
          ]
        }
      ]
    },
    {
      "cell_type": "markdown",
      "source": [
        "Algebra Linear"
      ],
      "metadata": {
        "id": "RQ7gsWa2p-b0"
      }
    },
    {
      "cell_type": "markdown",
      "source": [
        "Multiplicação entre matriz x1 * x2"
      ],
      "metadata": {
        "id": "d_NUoLPRrnXY"
      }
    },
    {
      "cell_type": "code",
      "source": [
        "x1 = tf.constant([\n",
        "    [1,2,3],\n",
        "    [1,2,3]\n",
        "])\n",
        "x2 = tf.constant([\n",
        "    [1,2],\n",
        "    [1,2],\n",
        "    [1,2]\n",
        "])\n"
      ],
      "metadata": {
        "id": "8f1JcNvbqJPB"
      },
      "execution_count": null,
      "outputs": []
    },
    {
      "cell_type": "code",
      "source": [
        "print(x1.shape)\n",
        "print(x2.shape)"
      ],
      "metadata": {
        "colab": {
          "base_uri": "https://localhost:8080/"
        },
        "id": "Qt9dpEdWq1Wd",
        "outputId": "f4180bba-beb9-46a8-b860-20304f449bc3"
      },
      "execution_count": null,
      "outputs": [
        {
          "output_type": "stream",
          "name": "stdout",
          "text": [
            "(2, 3)\n",
            "(3, 2)\n"
          ]
        }
      ]
    },
    {
      "cell_type": "code",
      "source": [
        "tf.linalg.matmul(\n",
        "    x1,\n",
        "    x2,\n",
        "    transpose_a=False,\n",
        "    transpose_b=False,\n",
        "    adjoint_a=False,\n",
        "    adjoint_b=False,\n",
        "    a_is_sparse=False,\n",
        "    b_is_sparse=False,\n",
        "    output_type=None,\n",
        "    name=None\n",
        ")"
      ],
      "metadata": {
        "colab": {
          "base_uri": "https://localhost:8080/"
        },
        "id": "N-sX0pi9qGqG",
        "outputId": "06a8d11f-027c-4c05-a9c9-be67428b7e26"
      },
      "execution_count": null,
      "outputs": [
        {
          "output_type": "execute_result",
          "data": {
            "text/plain": [
              "<tf.Tensor: shape=(2, 2), dtype=int32, numpy=\n",
              "array([[ 6, 12],\n",
              "       [ 6, 12]], dtype=int32)>"
            ]
          },
          "metadata": {},
          "execution_count": 24
        }
      ]
    },
    {
      "cell_type": "code",
      "source": [
        "x1@x2"
      ],
      "metadata": {
        "colab": {
          "base_uri": "https://localhost:8080/"
        },
        "id": "HReD9Q2Or4Rj",
        "outputId": "131a6cf4-906f-4b36-f6fa-b336b93a053c"
      },
      "execution_count": null,
      "outputs": [
        {
          "output_type": "execute_result",
          "data": {
            "text/plain": [
              "<tf.Tensor: shape=(2, 2), dtype=int32, numpy=\n",
              "array([[ 6, 12],\n",
              "       [ 6, 12]], dtype=int32)>"
            ]
          },
          "metadata": {},
          "execution_count": 25
        }
      ]
    },
    {
      "cell_type": "markdown",
      "source": [
        "Matriz Transposta"
      ],
      "metadata": {
        "id": "Z59CdVjcsI15"
      }
    },
    {
      "cell_type": "code",
      "source": [
        "print(x1)\n",
        "tf.transpose(x1)"
      ],
      "metadata": {
        "colab": {
          "base_uri": "https://localhost:8080/"
        },
        "id": "LURT1NB9sQNi",
        "outputId": "2a43f11e-6a49-4707-c6da-c017e7a34d12"
      },
      "execution_count": null,
      "outputs": [
        {
          "output_type": "stream",
          "name": "stdout",
          "text": [
            "tf.Tensor(\n",
            "[[1 2 3]\n",
            " [1 2 3]], shape=(2, 3), dtype=int32)\n"
          ]
        },
        {
          "output_type": "execute_result",
          "data": {
            "text/plain": [
              "<tf.Tensor: shape=(3, 2), dtype=int32, numpy=\n",
              "array([[1, 1],\n",
              "       [2, 2],\n",
              "       [3, 3]], dtype=int32)>"
            ]
          },
          "metadata": {},
          "execution_count": 26
        }
      ]
    },
    {
      "cell_type": "code",
      "source": [
        "print(x2)\n",
        "tf.transpose(x2)"
      ],
      "metadata": {
        "colab": {
          "base_uri": "https://localhost:8080/"
        },
        "id": "np2Wd2_ztclt",
        "outputId": "a86ef25a-d0d6-4e19-ab42-0207f32d90dc"
      },
      "execution_count": null,
      "outputs": [
        {
          "output_type": "stream",
          "name": "stdout",
          "text": [
            "tf.Tensor(\n",
            "[[1 2]\n",
            " [1 2]\n",
            " [1 2]], shape=(3, 2), dtype=int32)\n"
          ]
        },
        {
          "output_type": "execute_result",
          "data": {
            "text/plain": [
              "<tf.Tensor: shape=(2, 3), dtype=int32, numpy=\n",
              "array([[1, 1, 1],\n",
              "       [2, 2, 2]], dtype=int32)>"
            ]
          },
          "metadata": {},
          "execution_count": 27
        }
      ]
    },
    {
      "cell_type": "markdown",
      "source": [
        "Matriz Inversa"
      ],
      "metadata": {
        "id": "6JH_9gpt7QEL"
      }
    },
    {
      "cell_type": "code",
      "source": [
        "x = tf.constant([\n",
        "    [1,2,0],\n",
        "    [3,5,100],\n",
        "    [1,5,6]\n",
        "], dtype=tf.float32)\n",
        "inv = tf.linalg.inv(x)\n",
        "print(inv)"
      ],
      "metadata": {
        "colab": {
          "base_uri": "https://localhost:8080/"
        },
        "id": "2WKk7InR7Xt9",
        "outputId": "49e48828-2242-4661-c0c7-417480b8da65"
      },
      "execution_count": null,
      "outputs": [
        {
          "output_type": "stream",
          "name": "stdout",
          "text": [
            "tf.Tensor(\n",
            "[[ 1.5359477   0.03921568 -0.65359473]\n",
            " [-0.26797387 -0.01960784  0.3267974 ]\n",
            " [-0.03267974  0.00980392  0.00326797]], shape=(3, 3), dtype=float32)\n"
          ]
        }
      ]
    },
    {
      "cell_type": "code",
      "source": [
        "x@inv"
      ],
      "metadata": {
        "colab": {
          "base_uri": "https://localhost:8080/"
        },
        "id": "NJYJas718VNN",
        "outputId": "b2aae7bd-dbe1-4f42-e439-e90779a769dc"
      },
      "execution_count": null,
      "outputs": [
        {
          "output_type": "execute_result",
          "data": {
            "text/plain": [
              "<tf.Tensor: shape=(3, 3), dtype=float32, numpy=\n",
              "array([[ 9.9999994e-01,  0.0000000e+00,  5.9604645e-08],\n",
              "       [-2.3841858e-07,  9.9999994e-01,  4.9360096e-08],\n",
              "       [-1.1920929e-07,  0.0000000e+00,  1.0000000e+00]], dtype=float32)>"
            ]
          },
          "metadata": {},
          "execution_count": 29
        }
      ]
    },
    {
      "cell_type": "markdown",
      "source": [
        "A decomposição de Matriz"
      ],
      "metadata": {
        "id": "u4c44LOU9eJW"
      }
    },
    {
      "cell_type": "code",
      "source": [
        "tf.linalg.svd(x)"
      ],
      "metadata": {
        "colab": {
          "base_uri": "https://localhost:8080/"
        },
        "id": "xPtinFZT9h7k",
        "outputId": "69f5ce99-25c0-4cc3-a201-59b0fdb6a7d2"
      },
      "execution_count": null,
      "outputs": [
        {
          "output_type": "execute_result",
          "data": {
            "text/plain": [
              "(<tf.Tensor: shape=(3,), dtype=float32, numpy=array([100.36639  ,   5.2198467,   0.5840843], dtype=float32)>,\n",
              " <tf.Tensor: shape=(3, 3), dtype=float32, numpy=\n",
              " array([[ 0.00135703,  0.41528973,  0.90968823],\n",
              "        [ 0.99803734, -0.05751522,  0.02476797],\n",
              "        [ 0.0626068 ,  0.9078693 , -0.41455275]], dtype=float32)>,\n",
              " <tf.Tensor: shape=(3, 3), dtype=float32, numpy=\n",
              " array([[ 0.03046915,  0.22043058,  0.97492677],\n",
              "        [ 0.05286566,  0.97365904, -0.22179614],\n",
              "        [ 0.99813676, -0.05829807, -0.01801335]], dtype=float32)>)"
            ]
          },
          "metadata": {},
          "execution_count": 30
        }
      ]
    },
    {
      "cell_type": "code",
      "source": [
        "s,u,v = tf.linalg.svd(x)\n",
        "print(s)\n",
        "print(u)\n",
        "print(v)"
      ],
      "metadata": {
        "colab": {
          "base_uri": "https://localhost:8080/"
        },
        "id": "LzS9rqsT9uk0",
        "outputId": "2c6d7f4b-a1bb-47dc-c2c1-08c5fa5d0603"
      },
      "execution_count": null,
      "outputs": [
        {
          "output_type": "stream",
          "name": "stdout",
          "text": [
            "tf.Tensor([100.36639     5.2198467   0.5840843], shape=(3,), dtype=float32)\n",
            "tf.Tensor(\n",
            "[[ 0.00135703  0.41528973  0.90968823]\n",
            " [ 0.99803734 -0.05751522  0.02476797]\n",
            " [ 0.0626068   0.9078693  -0.41455275]], shape=(3, 3), dtype=float32)\n",
            "tf.Tensor(\n",
            "[[ 0.03046915  0.22043058  0.97492677]\n",
            " [ 0.05286566  0.97365904 -0.22179614]\n",
            " [ 0.99813676 -0.05829807 -0.01801335]], shape=(3, 3), dtype=float32)\n"
          ]
        }
      ]
    },
    {
      "cell_type": "markdown",
      "source": [
        "Expandir dimensão de um tensor"
      ],
      "metadata": {
        "id": "UM3M_M1Swlq3"
      }
    },
    {
      "cell_type": "code",
      "source": [
        "tensor_tree_d = tf.constant([\n",
        "    [[1,2,0],\n",
        "    [3,5,-1]],\n",
        "    [[1,5,6],\n",
        "    [2,3,8]],\n",
        "    [[10,2,0],\n",
        "    [1,0,2]]\n",
        "])\n",
        "print(tensor_tree_d.shape)\n",
        "print(tf.expand_dims(tensor_tree_d,axis=0,name=None).shape)"
      ],
      "metadata": {
        "colab": {
          "base_uri": "https://localhost:8080/"
        },
        "id": "JuIC-j47wuNM",
        "outputId": "74b31877-9755-44d7-9453-72d975ccf210"
      },
      "execution_count": null,
      "outputs": [
        {
          "output_type": "stream",
          "name": "stdout",
          "text": [
            "(3, 2, 3)\n",
            "(1, 3, 2, 3)\n"
          ]
        }
      ]
    },
    {
      "cell_type": "markdown",
      "source": [
        "Remover dimensões de um tensor"
      ],
      "metadata": {
        "id": "8ojzptB9zpzV"
      }
    },
    {
      "cell_type": "code",
      "source": [
        "x = tf.constant([[2,5,1,3,1]])\n",
        "print(x.shape)\n",
        "x_squeze = tf.squeeze(x)\n",
        "print(x_squeze.shape)\n",
        "print(x_squeze)"
      ],
      "metadata": {
        "colab": {
          "base_uri": "https://localhost:8080/"
        },
        "id": "4vCu4RX-zwzL",
        "outputId": "ee6c067f-e3b6-42b0-a6d5-d722068a5145"
      },
      "execution_count": null,
      "outputs": [
        {
          "output_type": "stream",
          "name": "stdout",
          "text": [
            "(1, 5)\n",
            "(5,)\n",
            "tf.Tensor([2 5 1 3 1], shape=(5,), dtype=int32)\n"
          ]
        }
      ]
    },
    {
      "cell_type": "markdown",
      "source": [
        "Alterar dimensões de um tensor"
      ],
      "metadata": {
        "id": "D3AdDX5n1_tH"
      }
    },
    {
      "cell_type": "code",
      "source": [
        "x = tf.constant([\n",
        "    [[1, 1], [2, 2]],\n",
        "     [[3, 3], [4, 4]]\n",
        "])\n",
        "print(x.shape)\n",
        "x_reshape = tf.reshape(x,[2,4])\n",
        "print(x_reshape.shape)\n",
        "print(x_reshape)"
      ],
      "metadata": {
        "colab": {
          "base_uri": "https://localhost:8080/"
        },
        "id": "n2hJRyol129L",
        "outputId": "5705ba8f-1459-4ee1-b099-6a50a3f44d6d"
      },
      "execution_count": null,
      "outputs": [
        {
          "output_type": "stream",
          "name": "stdout",
          "text": [
            "(2, 2, 2)\n",
            "(2, 4)\n",
            "tf.Tensor(\n",
            "[[1 1 2 2]\n",
            " [3 3 4 4]], shape=(2, 4), dtype=int32)\n"
          ]
        }
      ]
    },
    {
      "cell_type": "markdown",
      "source": [
        "Concatenação em tensores"
      ],
      "metadata": {
        "id": "9hT39Fai4Mp_"
      }
    },
    {
      "cell_type": "code",
      "source": [
        "t1 = [[1, 2, 3], [4, 5, 6]]\n",
        "t2 = [[7, 8, 9], [10, 11, 12]]\n",
        "tf.concat([t1, t2], 0)"
      ],
      "metadata": {
        "colab": {
          "base_uri": "https://localhost:8080/"
        },
        "id": "HiGycRe44T9s",
        "outputId": "76c7a2a4-da2d-4652-8b76-a3eaed69c50f"
      },
      "execution_count": null,
      "outputs": [
        {
          "output_type": "execute_result",
          "data": {
            "text/plain": [
              "<tf.Tensor: shape=(4, 3), dtype=int32, numpy=\n",
              "array([[ 1,  2,  3],\n",
              "       [ 4,  5,  6],\n",
              "       [ 7,  8,  9],\n",
              "       [10, 11, 12]], dtype=int32)>"
            ]
          },
          "metadata": {},
          "execution_count": 35
        }
      ]
    },
    {
      "cell_type": "markdown",
      "source": [
        "Stack de tensor"
      ],
      "metadata": {
        "id": "95xIqCZD-COG"
      }
    },
    {
      "cell_type": "code",
      "source": [
        "x = tf.constant([1, 4])\n",
        "y = tf.constant([2, 5])\n",
        "z = tf.constant([3, 6])\n",
        "tf.stack([x, y, z])"
      ],
      "metadata": {
        "colab": {
          "base_uri": "https://localhost:8080/"
        },
        "id": "wkBoFlFF-F5w",
        "outputId": "9600119d-4606-45ed-b6ea-7978ddaf8499"
      },
      "execution_count": null,
      "outputs": [
        {
          "output_type": "execute_result",
          "data": {
            "text/plain": [
              "<tf.Tensor: shape=(3, 2), dtype=int32, numpy=\n",
              "array([[1, 4],\n",
              "       [2, 5],\n",
              "       [3, 6]], dtype=int32)>"
            ]
          },
          "metadata": {},
          "execution_count": 36
        }
      ]
    },
    {
      "cell_type": "markdown",
      "source": [
        "Preenchimento de tensor"
      ],
      "metadata": {
        "id": "XrBbTBLrMfX6"
      }
    },
    {
      "cell_type": "code",
      "source": [
        "t = tf.constant([[1, 2, 3], [4, 5, 6]])\n",
        "paddings = tf.constant([[1, 1,], [2, 2]])\n",
        "tf.pad(t, paddings, \"CONSTANT\")"
      ],
      "metadata": {
        "colab": {
          "base_uri": "https://localhost:8080/"
        },
        "id": "mgeZo05RMkEl",
        "outputId": "1ab64fd4-4437-4753-8dd8-92ea9a83e447"
      },
      "execution_count": null,
      "outputs": [
        {
          "output_type": "execute_result",
          "data": {
            "text/plain": [
              "<tf.Tensor: shape=(4, 7), dtype=int32, numpy=\n",
              "array([[0, 0, 0, 0, 0, 0, 0],\n",
              "       [0, 0, 1, 2, 3, 0, 0],\n",
              "       [0, 0, 4, 5, 6, 0, 0],\n",
              "       [0, 0, 0, 0, 0, 0, 0]], dtype=int32)>"
            ]
          },
          "metadata": {},
          "execution_count": 37
        }
      ]
    },
    {
      "cell_type": "markdown",
      "source": [
        "Coleta de elementos específicos de um tensor"
      ],
      "metadata": {
        "id": "SGg_Oo88N4Kk"
      }
    },
    {
      "cell_type": "code",
      "source": [
        "params = tf.constant([[0, 1.0, 2.0],\n",
        "                      [10.0, 11.0, 12.0],\n",
        "                      [20.0, 21.0, 22.0],\n",
        "                      [30.0, 31.0, 32.0]])\n",
        "x = tf.gather(params, indices=[3,1])\n",
        "y = tf.gather(params, indices=[2,1], axis=1)\n",
        "print(x)\n",
        "print(y)"
      ],
      "metadata": {
        "colab": {
          "base_uri": "https://localhost:8080/"
        },
        "id": "JxBypHLFOFX8",
        "outputId": "0a136c14-ec35-4ba7-a648-2d7758751201"
      },
      "execution_count": null,
      "outputs": [
        {
          "output_type": "stream",
          "name": "stdout",
          "text": [
            "tf.Tensor(\n",
            "[[30. 31. 32.]\n",
            " [10. 11. 12.]], shape=(2, 3), dtype=float32)\n",
            "tf.Tensor(\n",
            "[[ 2.  1.]\n",
            " [12. 11.]\n",
            " [22. 21.]\n",
            " [32. 31.]], shape=(4, 2), dtype=float32)\n"
          ]
        }
      ]
    },
    {
      "cell_type": "markdown",
      "source": [
        "Tensores com dimensões variáveis ou \"irregulares\""
      ],
      "metadata": {
        "id": "femwtHBMkKov"
      }
    },
    {
      "cell_type": "code",
      "source": [
        "x = [\n",
        "    [1,2,0],\n",
        "    [3],\n",
        "    [1,2,3,4,5,6],\n",
        "    [2,1]]\n",
        "tensor_ragged = tf.ragged.constant(x)\n",
        "print(tensor_ragged.shape)"
      ],
      "metadata": {
        "colab": {
          "base_uri": "https://localhost:8080/"
        },
        "id": "NsemFuxFkObK",
        "outputId": "d1472a41-bd92-4f1c-ef4a-ce927f04dcb5"
      },
      "execution_count": null,
      "outputs": [
        {
          "output_type": "stream",
          "name": "stdout",
          "text": [
            "(4, None)\n"
          ]
        }
      ]
    },
    {
      "cell_type": "code",
      "source": [
        "print(tf.RaggedTensor.from_row_splits(\n",
        "      values=[3, 1, 4, 1, 5, 9, 2, 6],\n",
        "      row_splits=[0, 1,2,3, 4, 5,6,7,8]))\n"
      ],
      "metadata": {
        "colab": {
          "base_uri": "https://localhost:8080/"
        },
        "id": "Bkx-y0Hgn7aV",
        "outputId": "3df24822-75bf-43d6-bcbe-c36c55e1415f"
      },
      "execution_count": null,
      "outputs": [
        {
          "output_type": "stream",
          "name": "stdout",
          "text": [
            "<tf.RaggedTensor [[3],\n",
            " [1],\n",
            " [4],\n",
            " [1],\n",
            " [5],\n",
            " [9],\n",
            " [2],\n",
            " [6]]>\n"
          ]
        }
      ]
    },
    {
      "cell_type": "markdown",
      "source": [
        "Tensores esparsos"
      ],
      "metadata": {
        "id": "R1f7ICRArQEL"
      }
    },
    {
      "cell_type": "code",
      "source": [
        "tensor_sparse = tf.sparse.SparseTensor(indices=[[0, 0], [1, 2]], values=[1, 2], dense_shape=[3, 4])\n",
        "print(tensor_sparse)"
      ],
      "metadata": {
        "colab": {
          "base_uri": "https://localhost:8080/"
        },
        "id": "W1n_hsttrUo5",
        "outputId": "73bfeeb4-7c85-4e9e-db18-40fc4036c011"
      },
      "execution_count": null,
      "outputs": [
        {
          "output_type": "stream",
          "name": "stdout",
          "text": [
            "SparseTensor(indices=tf.Tensor(\n",
            "[[0 0]\n",
            " [1 2]], shape=(2, 2), dtype=int64), values=tf.Tensor([1 2], shape=(2,), dtype=int32), dense_shape=tf.Tensor([3 4], shape=(2,), dtype=int64))\n"
          ]
        }
      ]
    },
    {
      "cell_type": "code",
      "source": [
        "tf.sparse.to_dense(tensor_sparse)"
      ],
      "metadata": {
        "colab": {
          "base_uri": "https://localhost:8080/"
        },
        "id": "Qsn-OR0JrqHg",
        "outputId": "6b1ab3c3-a3b4-4bd0-ae9a-b925bd091d73"
      },
      "execution_count": null,
      "outputs": [
        {
          "output_type": "execute_result",
          "data": {
            "text/plain": [
              "<tf.Tensor: shape=(3, 4), dtype=int32, numpy=\n",
              "array([[1, 0, 0, 0],\n",
              "       [0, 0, 2, 0],\n",
              "       [0, 0, 0, 0]], dtype=int32)>"
            ]
          },
          "metadata": {},
          "execution_count": 60
        }
      ]
    }
  ]
}